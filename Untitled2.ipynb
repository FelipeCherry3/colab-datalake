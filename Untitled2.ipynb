{
  "nbformat": 4,
  "nbformat_minor": 0,
  "metadata": {
    "colab": {
      "provenance": [],
      "authorship_tag": "ABX9TyNki8FcjrYrzcMFQAmKjR9N",
      "include_colab_link": true
    },
    "kernelspec": {
      "name": "python3",
      "display_name": "Python 3"
    },
    "language_info": {
      "name": "python"
    }
  },
  "cells": [
    {
      "cell_type": "markdown",
      "metadata": {
        "id": "view-in-github",
        "colab_type": "text"
      },
      "source": [
        "<a href=\"https://colab.research.google.com/github/FelipeCherry3/colab-datalake/blob/main/Untitled2.ipynb\" target=\"_parent\"><img src=\"https://colab.research.google.com/assets/colab-badge.svg\" alt=\"Open In Colab\"/></a>"
      ]
    },
    {
      "cell_type": "code",
      "source": [
        "import pandas as pd\n",
        "import numpy  as np\n",
        "import os\n",
        "#\n",
        "if not os.path.exists('data_lake'):\n",
        "  os.makedirs('data_lake')\n",
        "\n",
        "#\n",
        "num_files = 10\n",
        "num_rows_per_file =1000\n",
        "\n",
        "#\n",
        "dfs = []\n",
        "\n",
        "#\n",
        "for i in range(num_files):\n",
        "  #\n",
        "  data = {\n",
        "      'coluna 1' : np.random.randint(0, 100, num_rows_per_file),\n",
        "      'coluna 2' : np.random.randn(num_rows_per_file),\n",
        "      'coluna 3' : np.random.choice(['A','B','C'], num_rows_per_file)\n",
        "  }\n",
        "\n",
        "#\n",
        "df = pd.DataFrame(data)\n",
        "\n",
        "#\n",
        "file_name = f'data_lake/dados_{i+1}.csv'\n",
        "df.to_csv(file_name,index=False)\n",
        "\n",
        "#\n",
        "dfs.append((file_name,df))\n",
        "\n",
        "print(\"Dados do Data Lake gerados com sucesso!\")\n",
        "\n",
        "#\n",
        "for file_name, df in dfs :\n",
        "  print(f'\\n Dados do Arquivo {file_name}\\n')\n",
        "  print(df.head())\n"
      ],
      "metadata": {
        "colab": {
          "base_uri": "https://localhost:8080/"
        },
        "id": "aEl5f10Ys1XY",
        "outputId": "b81a2ba4-91b7-4030-9f20-7a3fbe8a2ca5"
      },
      "execution_count": 13,
      "outputs": [
        {
          "output_type": "stream",
          "name": "stdout",
          "text": [
            "Dados do Data Lake gerados com sucesso!\n",
            "\n",
            " Dados do Arquivo data_lake/dados_10.csv\n",
            "\n",
            "   coluna 1  coluna 2 coluna 3\n",
            "0        79  0.416476        C\n",
            "1        78  0.380353        B\n",
            "2        95 -0.759426        C\n",
            "3        28  0.726094        B\n",
            "4        79 -0.064715        B\n"
          ]
        }
      ]
    },
    {
      "cell_type": "code",
      "execution_count": 16,
      "metadata": {
        "colab": {
          "base_uri": "https://localhost:8080/",
          "height": 349
        },
        "id": "9bSZlgkvlDy5",
        "outputId": "68cd6a23-08c3-4b94-8da2-53ad8d18221c"
      },
      "outputs": [
        {
          "output_type": "error",
          "ename": "ValueError",
          "evalue": "Table dados_1 not found",
          "traceback": [
            "\u001b[0;31m---------------------------------------------------------------------------\u001b[0m",
            "\u001b[0;31mValueError\u001b[0m                                Traceback (most recent call last)",
            "\u001b[0;32m<ipython-input-16-8a760bca458f>\u001b[0m in \u001b[0;36m<cell line: 12>\u001b[0;34m()\u001b[0m\n\u001b[1;32m     10\u001b[0m \u001b[0;31m#\u001b[0m\u001b[0;34m\u001b[0m\u001b[0;34m\u001b[0m\u001b[0m\n\u001b[1;32m     11\u001b[0m \u001b[0mtable_name\u001b[0m \u001b[0;34m=\u001b[0m \u001b[0;34m'dados_1'\u001b[0m \u001b[0;31m#\u001b[0m\u001b[0;34m\u001b[0m\u001b[0;34m\u001b[0m\u001b[0m\n\u001b[0;32m---> 12\u001b[0;31m \u001b[0mdf\u001b[0m \u001b[0;34m=\u001b[0m \u001b[0mpd\u001b[0m\u001b[0;34m.\u001b[0m\u001b[0mread_sql_table\u001b[0m\u001b[0;34m(\u001b[0m\u001b[0mtable_name\u001b[0m\u001b[0;34m,\u001b[0m \u001b[0mengine\u001b[0m\u001b[0;34m)\u001b[0m\u001b[0;34m\u001b[0m\u001b[0;34m\u001b[0m\u001b[0m\n\u001b[0m\u001b[1;32m     13\u001b[0m \u001b[0;34m\u001b[0m\u001b[0m\n\u001b[1;32m     14\u001b[0m \u001b[0;31m#\u001b[0m\u001b[0;34m\u001b[0m\u001b[0;34m\u001b[0m\u001b[0m\n",
            "\u001b[0;32m/usr/local/lib/python3.10/dist-packages/pandas/io/sql.py\u001b[0m in \u001b[0;36mread_sql_table\u001b[0;34m(table_name, con, schema, index_col, coerce_float, parse_dates, columns, chunksize, dtype_backend)\u001b[0m\n\u001b[1;32m    336\u001b[0m     \u001b[0;32mwith\u001b[0m \u001b[0mpandasSQL_builder\u001b[0m\u001b[0;34m(\u001b[0m\u001b[0mcon\u001b[0m\u001b[0;34m,\u001b[0m \u001b[0mschema\u001b[0m\u001b[0;34m=\u001b[0m\u001b[0mschema\u001b[0m\u001b[0;34m,\u001b[0m \u001b[0mneed_transaction\u001b[0m\u001b[0;34m=\u001b[0m\u001b[0;32mTrue\u001b[0m\u001b[0;34m)\u001b[0m \u001b[0;32mas\u001b[0m \u001b[0mpandas_sql\u001b[0m\u001b[0;34m:\u001b[0m\u001b[0;34m\u001b[0m\u001b[0;34m\u001b[0m\u001b[0m\n\u001b[1;32m    337\u001b[0m         \u001b[0;32mif\u001b[0m \u001b[0;32mnot\u001b[0m \u001b[0mpandas_sql\u001b[0m\u001b[0;34m.\u001b[0m\u001b[0mhas_table\u001b[0m\u001b[0;34m(\u001b[0m\u001b[0mtable_name\u001b[0m\u001b[0;34m)\u001b[0m\u001b[0;34m:\u001b[0m\u001b[0;34m\u001b[0m\u001b[0;34m\u001b[0m\u001b[0m\n\u001b[0;32m--> 338\u001b[0;31m             \u001b[0;32mraise\u001b[0m \u001b[0mValueError\u001b[0m\u001b[0;34m(\u001b[0m\u001b[0;34mf\"Table {table_name} not found\"\u001b[0m\u001b[0;34m)\u001b[0m\u001b[0;34m\u001b[0m\u001b[0;34m\u001b[0m\u001b[0m\n\u001b[0m\u001b[1;32m    339\u001b[0m \u001b[0;34m\u001b[0m\u001b[0m\n\u001b[1;32m    340\u001b[0m         table = pandas_sql.read_table(\n",
            "\u001b[0;31mValueError\u001b[0m: Table dados_1 not found"
          ]
        }
      ],
      "source": [
        "import pandas as pd\n",
        "import matplotlib.pyplot as plt\n",
        "import seaborn as sns\n",
        "from sqlalchemy import create_engine\n",
        "\n",
        "#\n",
        "conn_string = 'sqlite:///data_lake.db'\n",
        "engine = create_engine(conn_string)\n",
        "\n",
        "#\n",
        "table_name = 'dados_1' #\n",
        "df = pd.read_sql_table(table_name, engine)\n",
        "\n",
        "#\n",
        "print('Primeiras linhas do DataFrame :')\n",
        "print(df.head())\n",
        "\n",
        "#\n",
        "print('Informações do DataFrame : ')\n",
        "print(df.info())\n",
        "\n",
        "#\n",
        "print('Resumo estatistico do DataFrame : ')\n",
        "print(df.describe())"
      ]
    }
  ]
}